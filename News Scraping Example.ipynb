{
 "cells": [
  {
   "cell_type": "code",
   "execution_count": 1,
   "metadata": {},
   "outputs": [
    {
     "name": "stdout",
     "output_type": "stream",
     "text": [
      "Requirement already satisfied: newspaper3k in /Users/fahmisalman/opt/anaconda3/lib/python3.7/site-packages (0.2.8)\n",
      "Requirement already satisfied: lxml>=3.6.0 in /Users/fahmisalman/opt/anaconda3/lib/python3.7/site-packages (from newspaper3k) (4.5.0)\n",
      "Requirement already satisfied: tinysegmenter==0.3 in /Users/fahmisalman/opt/anaconda3/lib/python3.7/site-packages (from newspaper3k) (0.3)\n",
      "Requirement already satisfied: requests>=2.10.0 in /Users/fahmisalman/opt/anaconda3/lib/python3.7/site-packages (from newspaper3k) (2.22.0)\n",
      "Requirement already satisfied: PyYAML>=3.11 in /Users/fahmisalman/opt/anaconda3/lib/python3.7/site-packages (from newspaper3k) (5.3)\n",
      "Requirement already satisfied: tldextract>=2.0.1 in /Users/fahmisalman/opt/anaconda3/lib/python3.7/site-packages (from newspaper3k) (2.2.2)\n",
      "Requirement already satisfied: beautifulsoup4>=4.4.1 in /Users/fahmisalman/opt/anaconda3/lib/python3.7/site-packages (from newspaper3k) (4.8.2)\n",
      "Requirement already satisfied: Pillow>=3.3.0 in /Users/fahmisalman/opt/anaconda3/lib/python3.7/site-packages (from newspaper3k) (7.0.0)\n",
      "Requirement already satisfied: python-dateutil>=2.5.3 in /Users/fahmisalman/opt/anaconda3/lib/python3.7/site-packages (from newspaper3k) (2.8.1)\n",
      "Requirement already satisfied: nltk>=3.2.1 in /Users/fahmisalman/opt/anaconda3/lib/python3.7/site-packages (from newspaper3k) (3.4.5)\n",
      "Requirement already satisfied: feedfinder2>=0.0.4 in /Users/fahmisalman/opt/anaconda3/lib/python3.7/site-packages (from newspaper3k) (0.0.4)\n",
      "Requirement already satisfied: feedparser>=5.2.1 in /Users/fahmisalman/opt/anaconda3/lib/python3.7/site-packages (from newspaper3k) (5.2.1)\n",
      "Requirement already satisfied: cssselect>=0.9.2 in /Users/fahmisalman/opt/anaconda3/lib/python3.7/site-packages (from newspaper3k) (1.1.0)\n",
      "Requirement already satisfied: jieba3k>=0.35.1 in /Users/fahmisalman/opt/anaconda3/lib/python3.7/site-packages (from newspaper3k) (0.35.1)\n",
      "Requirement already satisfied: chardet<3.1.0,>=3.0.2 in /Users/fahmisalman/opt/anaconda3/lib/python3.7/site-packages (from requests>=2.10.0->newspaper3k) (3.0.4)\n",
      "Requirement already satisfied: idna<2.9,>=2.5 in /Users/fahmisalman/opt/anaconda3/lib/python3.7/site-packages (from requests>=2.10.0->newspaper3k) (2.8)\n",
      "Requirement already satisfied: urllib3!=1.25.0,!=1.25.1,<1.26,>=1.21.1 in /Users/fahmisalman/opt/anaconda3/lib/python3.7/site-packages (from requests>=2.10.0->newspaper3k) (1.25.8)\n",
      "Requirement already satisfied: certifi>=2017.4.17 in /Users/fahmisalman/opt/anaconda3/lib/python3.7/site-packages (from requests>=2.10.0->newspaper3k) (2019.11.28)\n",
      "Requirement already satisfied: requests-file>=1.4 in /Users/fahmisalman/opt/anaconda3/lib/python3.7/site-packages (from tldextract>=2.0.1->newspaper3k) (1.4.3)\n",
      "Requirement already satisfied: setuptools in /Users/fahmisalman/opt/anaconda3/lib/python3.7/site-packages (from tldextract>=2.0.1->newspaper3k) (46.0.0.post20200309)\n",
      "Requirement already satisfied: soupsieve>=1.2 in /Users/fahmisalman/opt/anaconda3/lib/python3.7/site-packages (from beautifulsoup4>=4.4.1->newspaper3k) (1.9.5)\n",
      "Requirement already satisfied: six>=1.5 in /Users/fahmisalman/opt/anaconda3/lib/python3.7/site-packages (from python-dateutil>=2.5.3->newspaper3k) (1.14.0)\n"
     ]
    }
   ],
   "source": [
    "!pip install newspaper3k"
   ]
  },
  {
   "cell_type": "code",
   "execution_count": 2,
   "metadata": {},
   "outputs": [],
   "source": [
    "from newspaper import Article"
   ]
  },
  {
   "cell_type": "code",
   "execution_count": 20,
   "metadata": {},
   "outputs": [],
   "source": [
    "url = 'https://www.nytimes.com/2020/05/10/us/ahmaud-arbery-georgia.html'\n",
    "\n",
    "article = Article(url)\n",
    "\n",
    "# # Or instead you can using specific language\n",
    "\n",
    "# article = Article(url, language='en')  # English"
   ]
  },
  {
   "cell_type": "code",
   "execution_count": 21,
   "metadata": {},
   "outputs": [],
   "source": [
    "article.download()"
   ]
  },
  {
   "cell_type": "code",
   "execution_count": 22,
   "metadata": {},
   "outputs": [],
   "source": [
    "article.parse()"
   ]
  },
  {
   "cell_type": "code",
   "execution_count": 23,
   "metadata": {},
   "outputs": [
    {
     "data": {
      "text/plain": [
       "['Richard Fausset']"
      ]
     },
     "execution_count": 23,
     "metadata": {},
     "output_type": "execute_result"
    }
   ],
   "source": [
    "article.authors"
   ]
  },
  {
   "cell_type": "code",
   "execution_count": 13,
   "metadata": {},
   "outputs": [
    {
     "data": {
      "text/plain": [
       "datetime.datetime(2020, 5, 10, 0, 0)"
      ]
     },
     "execution_count": 13,
     "metadata": {},
     "output_type": "execute_result"
    }
   ],
   "source": [
    "article.publish_date"
   ]
  },
  {
   "cell_type": "code",
   "execution_count": 14,
   "metadata": {},
   "outputs": [
    {
     "data": {
      "text/plain": [
       "'Mr. Baker was with Mr. Arbery’s family at his grave site. It was Mr. Arbery’s birthday.\\n\\nNow they were both 26. A pandemic had upended the world, and Mr. Baker felt adrift. Sometimes he wished to be called a musician, and sometimes he did not. He was unsure what he would become or how he would get there. He knew he needed a friend’s advice.'"
      ]
     },
     "execution_count": 14,
     "metadata": {},
     "output_type": "execute_result"
    }
   ],
   "source": [
    "article.text"
   ]
  },
  {
   "cell_type": "code",
   "execution_count": 15,
   "metadata": {},
   "outputs": [
    {
     "data": {
      "text/plain": [
       "'https://static01.nyt.com/images/2020/05/10/us/10georgia-arbery-1/10georgia-arbery-1-facebookJumbo-v2.jpg'"
      ]
     },
     "execution_count": 15,
     "metadata": {},
     "output_type": "execute_result"
    }
   ],
   "source": [
    "article.top_image"
   ]
  },
  {
   "cell_type": "code",
   "execution_count": 16,
   "metadata": {},
   "outputs": [
    {
     "data": {
      "text/plain": [
       "[]"
      ]
     },
     "execution_count": 16,
     "metadata": {},
     "output_type": "execute_result"
    }
   ],
   "source": [
    "article.movies"
   ]
  },
  {
   "cell_type": "code",
   "execution_count": 17,
   "metadata": {},
   "outputs": [],
   "source": [
    "article.nlp()"
   ]
  },
  {
   "cell_type": "code",
   "execution_count": 18,
   "metadata": {},
   "outputs": [
    {
     "data": {
      "text/plain": [
       "['running',\n",
       " 'world',\n",
       " 'needed',\n",
       " 'arbery',\n",
       " 'lifetime',\n",
       " 'site',\n",
       " 'baker',\n",
       " 'text',\n",
       " 'wished',\n",
       " 'maud',\n",
       " 'arberys',\n",
       " 'lost',\n",
       " 'pandemic',\n",
       " 'upended',\n",
       " 'ends',\n",
       " 'ahmaud',\n",
       " 'unsure',\n",
       " 'mr']"
      ]
     },
     "execution_count": 18,
     "metadata": {},
     "output_type": "execute_result"
    }
   ],
   "source": [
    "article.keywords"
   ]
  },
  {
   "cell_type": "code",
   "execution_count": 19,
   "metadata": {},
   "outputs": [
    {
     "data": {
      "text/plain": [
       "'Mr. Baker was with Mr. Arbery’s family at his grave site.\\nIt was Mr. Arbery’s birthday.\\nA pandemic had upended the world, and Mr. Baker felt adrift.\\nSometimes he wished to be called a musician, and sometimes he did not.\\nHe was unsure what he would become or how he would get there.'"
      ]
     },
     "execution_count": 19,
     "metadata": {},
     "output_type": "execute_result"
    }
   ],
   "source": [
    "article.summary"
   ]
  },
  {
   "cell_type": "code",
   "execution_count": null,
   "metadata": {},
   "outputs": [],
   "source": []
  }
 ],
 "metadata": {
  "kernelspec": {
   "display_name": "Python 3",
   "language": "python",
   "name": "python3"
  },
  "language_info": {
   "codemirror_mode": {
    "name": "ipython",
    "version": 3
   },
   "file_extension": ".py",
   "mimetype": "text/x-python",
   "name": "python",
   "nbconvert_exporter": "python",
   "pygments_lexer": "ipython3",
   "version": "3.7.6"
  }
 },
 "nbformat": 4,
 "nbformat_minor": 4
}
